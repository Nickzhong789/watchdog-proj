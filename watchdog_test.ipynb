{
 "cells": [
  {
   "cell_type": "code",
   "execution_count": 1,
   "metadata": {},
   "outputs": [],
   "source": [
    "from watchdog.observers import Observer\n",
    "from watchdog.events import *\n",
    "import time"
   ]
  },
  {
   "cell_type": "code",
   "execution_count": 3,
   "metadata": {},
   "outputs": [],
   "source": [
    "class myFileEventHandler(FileSystemEventHandler):\n",
    "    def __init__(self):\n",
    "        FileSystemEventHandler.__init__(self)\n",
    "    \n",
    "    def on_modified(self, event):\n",
    "        if event.is_directory:\n",
    "            print(\"directory modified:{0}\".format(event.src_path))\n",
    "        else:\n",
    "            print(\"file modified:{0}\".format(event.src_path))"
   ]
  },
  {
   "cell_type": "code",
   "execution_count": 6,
   "metadata": {},
   "outputs": [],
   "source": [
    "if __name__ == \"__main__\":\n",
    "    observer = Observer()\n",
    "    event_handler = myFileEventHandler()\n",
    "    observer.schedule(event_handler, \"C:\\soft\\ASAP\\ASAP-master\", True)\n",
    "    observer.start()\n",
    "    \n",
    "    try:\n",
    "        while(True):\n",
    "            time.sleep(1)\n",
    "    except KeyboardInterrupt:\n",
    "        observer.stop()\n",
    "    observer.join()\n"
   ]
  },
  {
   "cell_type": "code",
   "execution_count": null,
   "metadata": {},
   "outputs": [],
   "source": []
  }
 ],
 "metadata": {
  "kernelspec": {
   "display_name": "Python 3",
   "language": "python",
   "name": "python3"
  },
  "language_info": {
   "codemirror_mode": {
    "name": "ipython",
    "version": 3
   },
   "file_extension": ".py",
   "mimetype": "text/x-python",
   "name": "python",
   "nbconvert_exporter": "python",
   "pygments_lexer": "ipython3",
   "version": "3.6.8"
  }
 },
 "nbformat": 4,
 "nbformat_minor": 2
}
